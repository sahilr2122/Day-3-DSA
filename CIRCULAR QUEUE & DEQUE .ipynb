{
 "cells": [
  {
   "cell_type": "code",
   "execution_count": 1,
   "id": "1bf5f01c",
   "metadata": {},
   "outputs": [
    {
     "name": "stdout",
     "output_type": "stream",
     "text": [
      "1\n",
      "2\n",
      "3\n",
      "4\n"
     ]
    }
   ],
   "source": [
    "class Queue:\n",
    "    def __init__(self, n):\n",
    "        self.arr = [None] * n  # Initialize array with None\n",
    "        self.size = n\n",
    "        self.rear = -1\n",
    "        self.front = -1\n",
    "\n",
    "    def is_empty(self):\n",
    "        return self.rear == -1 and self.front == -1\n",
    "\n",
    "    def is_full(self):\n",
    "        return (self.rear + 1) % self.size == self.front\n",
    "\n",
    "    # Add function\n",
    "    def add(self, data):\n",
    "        if self.is_full():\n",
    "            print(\"Queue is full\")\n",
    "            return\n",
    "        if self.front == -1:\n",
    "            self.front = 0\n",
    "        self.rear = (self.rear + 1) % self.size\n",
    "        self.arr[self.rear] = data\n",
    "\n",
    "    # Remove function\n",
    "    def remove(self):\n",
    "        if self.is_empty():\n",
    "            print(\"Queue is empty\")\n",
    "            return -1\n",
    "        result = self.arr[self.front]\n",
    "        if self.rear == self.front:\n",
    "            self.rear = self.front = -1  # Reset queue when empty\n",
    "        else:\n",
    "            self.front = (self.front + 1) % self.size\n",
    "        return result\n",
    "\n",
    "    # Peek function (peek in front)\n",
    "    def peek(self):\n",
    "        if self.is_empty():\n",
    "            print(\"Queue is empty\")\n",
    "            return -1\n",
    "        return self.arr[self.front]\n",
    "\n",
    "# Driver code to test the Queue implementation\n",
    "if __name__ == \"__main__\":\n",
    "    q = Queue(5)\n",
    "    q.add(1)\n",
    "    q.add(2)\n",
    "    q.add(3)\n",
    "    q.add(4)\n",
    "\n",
    "    while not q.is_empty():\n",
    "        print(q.peek())\n",
    "        q.remove()\n"
   ]
  },
  {
   "cell_type": "code",
   "execution_count": 2,
   "id": "1265c383",
   "metadata": {},
   "outputs": [
    {
     "name": "stdout",
     "output_type": "stream",
     "text": [
      "deque([9, 3, 1, 4, 4])\n",
      "deque([9, 3, 1, 4])\n",
      "first el=  9\n",
      "last el=  4\n"
     ]
    }
   ],
   "source": [
    "from collections import deque\n",
    "\n",
    "class Deques:\n",
    "    def __init__(self):\n",
    "        self.deque = deque()\n",
    "\n",
    "    def main(self):\n",
    "        # Adding elements to deque\n",
    "        self.deque.appendleft(1)  \n",
    "        self.deque.appendleft(3)  \n",
    "        self.deque.append(4)      \n",
    "        self.deque.append(4)      \n",
    "        self.deque.appendleft(9)  \n",
    "\n",
    "        print(self.deque)\n",
    "\n",
    "        # Removing last element (Equivalent to removeLast in Java)\n",
    "        self.deque.pop()\n",
    "        print(self.deque)\n",
    "\n",
    "        # Getting first and last elements\n",
    "        print(\"first el= \", self.deque[0])  \n",
    "        print(\"last el= \", self.deque[-1])  \n",
    "\n",
    "# Driver code to test the Deques implementation\n",
    "if __name__ == \"__main__\":\n",
    "    dq = Deques()\n",
    "    dq.main()\n"
   ]
  },
  {
   "cell_type": "code",
   "execution_count": null,
   "id": "6338f19e",
   "metadata": {},
   "outputs": [],
   "source": []
  }
 ],
 "metadata": {
  "kernelspec": {
   "display_name": "Python 3 (ipykernel)",
   "language": "python",
   "name": "python3"
  },
  "language_info": {
   "codemirror_mode": {
    "name": "ipython",
    "version": 3
   },
   "file_extension": ".py",
   "mimetype": "text/x-python",
   "name": "python",
   "nbconvert_exporter": "python",
   "pygments_lexer": "ipython3",
   "version": "3.9.13"
  }
 },
 "nbformat": 4,
 "nbformat_minor": 5
}
